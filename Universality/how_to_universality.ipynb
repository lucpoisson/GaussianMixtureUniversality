{
 "cells": [
  {
   "cell_type": "markdown",
   "metadata": {},
   "source": [
    "# $\\color{Blue}{\\text{Universality of homoscedastic mixtures - Random teacher regression}}$"
   ]
  },
  {
   "cell_type": "markdown",
   "metadata": {},
   "source": [
    "## Data preprocessing "
   ]
  },
  {
   "cell_type": "markdown",
   "metadata": {},
   "source": [
    "In this notebook we reproduce the plots in Figure 1: Random teacher regression on pre-processed real datasets with Random Features. \n",
    "\n",
    "\n",
    "First we import different scientific computing Python packages, moreover we exploit functions built in the script *preprocess.py*. "
   ]
  },
  {
   "cell_type": "code",
   "execution_count": 1,
   "metadata": {},
   "outputs": [],
   "source": [
    "import numpy as np\n",
    "import pandas as pd\n",
    "import matplotlib.pyplot as plt\n",
    "from scipy.linalg import sqrtm\n",
    "from pathlib import Path\n",
    "from preprocess import *\n",
    "from learning_curve_utils import *"
   ]
  },
  {
   "attachments": {},
   "cell_type": "markdown",
   "metadata": {},
   "source": [
    "The first step is to import the data and preprocess them. We consider in the following Fashion-MNIST with random features processing with a *erf()* non-linearity using the function *get_real_data*. \n",
    "\n",
    "The user may change the data under analysis by changing the three numbers appearing in the variable *triplet*:\n",
    "\n",
    "* $\\color{purple}{\\text{a = triplet[0] selects the data:}}$ \n",
    "  - a = 0 -> MNIST \n",
    "  - a = 1 -> Fashion-MNIST \n",
    "  - a = 2 -> CIFAR10 - grayscale \n",
    "  \n",
    "* $\\color{purple}{\\text{b = triplet[1] selects the preprocessing step:}}$ \n",
    "  - b = 0 -> No transorm \n",
    "  - b = 1: \n",
    "    - a = 0 -> Hadamard transform \n",
    "    - a = 1 -> Discrete cosine transform \n",
    "    - a = 2 -> Orthogonal projection \n",
    "  - b = 2 -> Random Gaussian featues\n",
    "\n",
    "* $\\color{purple}{\\text{c = triplet[2] selects the non-linearity:}}$\n",
    "  - c = 0 -> No non-linearity\n",
    "  - c = 1 -> *relu()*\n",
    "  - c = 2 -> *erf()*\n",
    "  - c = 3 -> *tanh()*\n",
    "  - c = 4 -> *sign()*"
   ]
  },
  {
   "cell_type": "code",
   "execution_count": 2,
   "metadata": {},
   "outputs": [],
   "source": [
    "triplet = (2,2,2)\n",
    "a,b,c = triplet \n",
    "which_real_dataset = \"MNIST\" if a==0 else \"fashion-MNIST\" if a==1 else \"CIFAR10\"\n",
    "which_transform = 'no_transform' if b == 0 else \"other\" if b==1 else 'random_gaussian_features' \n",
    "which_non_lin = 'no_transform' if c ==0 else 'relu' if c==1  else 'erf' if c==2 else 'tanh' if c==3 else 'sign'"
   ]
  },
  {
   "cell_type": "markdown",
   "metadata": {},
   "source": [
    "Choose the path where storing the data and the results and load the preprocessed real dataset with the function *get_real_data*."
   ]
  },
  {
   "cell_type": "code",
   "execution_count": 3,
   "metadata": {
    "scrolled": true
   },
   "outputs": [],
   "source": [
    "path_to_data_folder = \"./data\"\n",
    "loss = \"square_loss\"\n",
    "path_to_res_folder = f\"./results_regression/dataset_{a}_transform_{b}_nonlin_{c}\"\n",
    "resfile = \"res_%s_real.csv\"%(loss)\n",
    "p = 2000\n",
    "get_real_data(p, which_real_dataset = which_real_dataset, which_transform = which_transform, \n",
    "                    which_non_lin = which_non_lin, path_to_data_folder = path_to_data_folder)    "
   ]
  },
  {
   "cell_type": "markdown",
   "metadata": {},
   "source": [
    "## Learning curve"
   ]
  },
  {
   "cell_type": "markdown",
   "metadata": {},
   "source": [
    "Choose the value of the regularization for the ERM and the noise level in the teacher function: $\\lambda , \\Delta$:"
   ]
  },
  {
   "cell_type": "code",
   "execution_count": 4,
   "metadata": {},
   "outputs": [],
   "source": [
    "λ = 1e-15\n",
    "noise = 0.3"
   ]
  },
  {
   "cell_type": "markdown",
   "metadata": {},
   "source": [
    "Now we are in the position to compute the learning curve, i.e. runnning for different $\\alpha = \\frac nd$ the ERM fit with the function *get_learning_curve_real*. "
   ]
  },
  {
   "cell_type": "code",
   "execution_count": 5,
   "metadata": {},
   "outputs": [
    {
     "name": "stdout",
     "output_type": "stream",
     "text": [
      "Keys: <KeysViewHDF5 ['X_CIFAR10_random_gaussian_features_erf']>\n",
      "START ridge simulation with lamb = 1e-15 and triplet = (2, 2, 2) and noise = 0.3\n",
      "Run #  0\n",
      "Keys: <KeysViewHDF5 ['X_CIFAR10_random_gaussian_features_erf']>\n",
      "Run #  1\n",
      "Keys: <KeysViewHDF5 ['X_CIFAR10_random_gaussian_features_erf']>\n",
      "Run #  2\n",
      "Keys: <KeysViewHDF5 ['X_CIFAR10_random_gaussian_features_erf']>\n",
      "Run #  3\n",
      "Keys: <KeysViewHDF5 ['X_CIFAR10_random_gaussian_features_erf']>\n",
      "Run #  4\n",
      "Keys: <KeysViewHDF5 ['X_CIFAR10_random_gaussian_features_erf']>\n",
      "Run #  5\n",
      "Keys: <KeysViewHDF5 ['X_CIFAR10_random_gaussian_features_erf']>\n",
      "Run #  6\n",
      "Keys: <KeysViewHDF5 ['X_CIFAR10_random_gaussian_features_erf']>\n",
      "Run #  7\n",
      "Keys: <KeysViewHDF5 ['X_CIFAR10_random_gaussian_features_erf']>\n",
      "Run #  8\n",
      "Keys: <KeysViewHDF5 ['X_CIFAR10_random_gaussian_features_erf']>\n",
      "Run #  9\n",
      "Keys: <KeysViewHDF5 ['X_CIFAR10_random_gaussian_features_erf']>\n",
      "FINISH ridge simulation with lamb = 1e-15 and triplet = (2, 2, 2) and noise = 0.3\n"
     ]
    }
   ],
   "source": [
    "my_file = Path(f'{path_to_res_folder}/sim_square_loss_real.csv')\n",
    "if my_file.is_file():\n",
    "    print(f'already computed - ridge simulation with lamb = {λ} and triplet = {triplet} and noise = {noise}')\n",
    "else: \n",
    "    # Import the empirical covariance matrix in order to compute the estimation for the overlaps appearing in the replica equations #\n",
    "    μ_real, Σ_real = build_covariances_real(p = p, which_real_dataset = which_real_dataset, \n",
    "                        which_transform = which_transform, which_non_lin = which_non_lin, \n",
    "                        path_to_data_folder = path_to_data_folder) \n",
    "    print(f'START ridge simulation with lamb = {λ} and triplet = {triplet} and noise = {noise}')\n",
    "    p , p = Σ_real.shape\n",
    "    # Average over 25 different runs #\n",
    "    n_seeds = 10\n",
    "    solver = 'sk'\n",
    "    # Choose the vector of sample complexity #\n",
    "    αs = np.linspace(0.3,4,20)\n",
    "    for seed in range(n_seeds):\n",
    "        print(\"Run # \", seed)\n",
    "        # Compute the learning curve for the given seed # \n",
    "        get_learning_curve_real(Cov = Σ_real, noise = noise ,αs = αs, λ = λ, task = 'regression', loss = loss, which_real_dataset = which_real_dataset, \n",
    "                        which_transform = which_transform, which_non_lin = which_non_lin,\n",
    "                        path_to_data_folder = path_to_data_folder, path_to_res_folder = path_to_res_folder, \n",
    "                        solver = solver, seed = seed)\n",
    "    statistics_learning_curve_real(n_seeds = n_seeds, loss = loss, path_to_res_folder = path_to_res_folder)\n",
    "    print(f'FINISH ridge simulation with lamb = {λ} and triplet = {triplet} and noise = {noise}')"
   ]
  },
  {
   "cell_type": "code",
   "execution_count": 17,
   "metadata": {},
   "outputs": [],
   "source": [
    "sim = pd.read_csv(my_file)\n",
    "sim['mean_train_loss'] *= 2/noise ; sim['mean_test_error'] /= noise"
   ]
  },
  {
   "cell_type": "code",
   "execution_count": 18,
   "metadata": {},
   "outputs": [],
   "source": [
    "xs1 = np.linspace(0.3,0.999,300) ; xs2 = np.linspace(1.0001,4,300)\n",
    "xs = np.union1d(xs1,xs2)\n",
    "eg_closed1 , et_closed1, eg_closed2 , et_closed2 = [] , [] , [], []\n",
    "for x in xs1: \n",
    "    auxt = 0\n",
    "    auxg = ((x-1)**2 + 1)/(1-x) \n",
    "    eg_closed1.append(auxg) ; et_closed1.append(auxt)\n",
    "for x in xs2:\n",
    "    auxt = (x-1)/x\n",
    "    auxg = x/(x-1)\n",
    "    eg_closed2.append(auxg) ; et_closed2.append(auxt)"
   ]
  },
  {
   "cell_type": "code",
   "execution_count": 20,
   "metadata": {},
   "outputs": [
    {
     "data": {
      "text/plain": [
       "Text(0, 0.5, ' $\\\\varepsilon_{tr} \\\\, / \\\\, \\\\Delta$ - Square loss')"
      ]
     },
     "execution_count": 20,
     "metadata": {},
     "output_type": "execute_result"
    },
    {
     "data": {
      "image/png": "[encoded data removed]",
      "text/plain": [
       "<Figure size 1152x288 with 2 Axes>"
      ]
     },
     "metadata": {
      "needs_background": "light"
     },
     "output_type": "display_data"
    }
   ],
   "source": [
    "fig, ax = plt.subplots(1,2, figsize=(16,4))\n",
    "# plt.suptitle(fr\"Learning curves: Random teacher - {task} -  $\\lambda$ = {λ} - noise variance = {noise}\")\n",
    "leg_code = 'Cifar10 - RF + erf'\n",
    "sim.plot(x='alpha',\n",
    "        y='mean_train_loss',\n",
    "        yerr = 'std_train_loss',        \n",
    "        color = 'r',\n",
    "        marker = '+',\n",
    "        markersize = 8,                                                                         \n",
    "        lw = 2,\n",
    "        linestyle='None',\n",
    "        ax=ax[1],\n",
    "        label=f'Simulation {leg_code}')\n",
    "\n",
    "sim.plot(x='alpha',\n",
    "        y='mean_test_error',\n",
    "        yerr = 'std_test_error',        \n",
    "        color ='r',\n",
    "        marker = '+',\n",
    "        markersize = 8,                                                                         \n",
    "        lw = 2,\n",
    "        linestyle='None',\n",
    "        ax=ax[0],\n",
    "        label=f'Simulation {leg_code}')\n",
    "        \n",
    "### Identity  ###      \n",
    "ax[0].plot(xs1,eg_closed1, label = r'GCM - $\\Sigma = Id$ - $\\lambda = 0$',linewidth=2,c='purple')\n",
    "ax[1].plot(xs1,et_closed1, label = r'GCM - $\\Sigma = Id $ - $\\lambda = 0$',linewidth=2,c='purple') \n",
    "ax[0].plot(xs2,eg_closed2, label = r'GCM - $\\Sigma = Id$ - $\\lambda = 0$',linewidth=2,c='purple')\n",
    "ax[1].plot(xs2,et_closed2, label = r'GCM - $\\Sigma = Id $ - $\\lambda = 0$',linewidth=2,c='purple') \n",
    "ax[0].axvline(1,linestyle = '-.', c= 'green') ; ax[1].axvline(1,linestyle = '-.', c= 'green')\n",
    "## AXIS ##\n",
    "ax[0].set( ylim=[1,10]\n",
    "      ,xlim=[0.3,4]     \n",
    "     )\n",
    "ax[1].set(ylim=[-3*1e-3,0.83]\n",
    "      ,xlim=[0.3,4]\n",
    "     )\n",
    "ax[0].tick_params(labelsize=14) ; ax[1].tick_params(labelsize=14)\n",
    "ax[0].set_xlabel(xlabel = r\"$\\alpha$: # samples / dimension\",fontsize=15)  \n",
    "ax[1].set_xlabel(xlabel = r\"$\\alpha$: # samples / dimension\",fontsize=15)\n",
    "ax[0].set_ylabel(ylabel = r\" $\\varepsilon_{gen} \\, / \\, \\Delta$ - Square loss\",fontsize = 15)  \n",
    "ax[1].set_ylabel(ylabel = r\" $\\varepsilon_{tr} \\, / \\, \\Delta$ - Square loss\",fontsize = 15)\n"
   ]
  },
  {
   "cell_type": "code",
   "execution_count": null,
   "metadata": {},
   "outputs": [],
   "source": []
  }
 ],
 "metadata": {
  "interpreter": {
   "hash": "40d3a090f54c6569ab1632332b64b2c03c39dcf918b08424e98f38b5ae0af88f"
  },
  "kernelspec": {
   "display_name": "Python 3",
   "language": "python",
   "name": "python3"
  },
  "language_info": {
   "codemirror_mode": {
    "name": "ipython",
    "version": 3
   },
   "file_extension": ".py",
   "mimetype": "text/x-python",
   "name": "python",
   "nbconvert_exporter": "python",
   "pygments_lexer": "ipython3",
   "version": "3.8.8"
  }
 },
 "nbformat": 4,
 "nbformat_minor": 2
}
