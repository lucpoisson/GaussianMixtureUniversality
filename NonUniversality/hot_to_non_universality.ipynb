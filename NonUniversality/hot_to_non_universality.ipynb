{
 "cells": [
  {
   "attachments": {},
   "cell_type": "markdown",
   "metadata": {},
   "source": [
    "# $\\color{Blue}{\\text{Breaking of universality - Correlated teachers}}$"
   ]
  },
  {
   "attachments": {},
   "cell_type": "markdown",
   "metadata": {},
   "source": [
    "In this notebook we reproduce the plots in Figure 3: Breaking of universality for teachers that correlate with the structure. \n",
    "\n",
    "\n",
    "First we import different scientific computing Python packages, moreover we have built different functions we will need in the scripts *theoryutils.py* & *simulation_utils.py*"
   ]
  },
  {
   "cell_type": "code",
   "execution_count": 1,
   "metadata": {},
   "outputs": [],
   "source": [
    "import numpy as np\n",
    "import numpy as np\n",
    "import pandas as pd\n",
    "import matplotlib.pyplot as plt\n",
    "from theory_utils import *\n",
    "from scipy.linalg import sqrtm\n",
    "from simulation_utils import *"
   ]
  },
  {
   "attachments": {},
   "cell_type": "markdown",
   "metadata": {},
   "source": [
    "## Description of the experiment"
   ]
  },
  {
   "attachments": {},
   "cell_type": "markdown",
   "metadata": {},
   "source": [
    "Consider now a 2-cluster GMM: $$x_{\\mu} \\sim p_+\\mathcal{N}(\\mu_+,\\Sigma_+) + (1-p_+)p_+\\mathcal{N}(\\mu_-,\\Sigma_-) \\qquad x_{\\mu} \\in \\mathbb{R}^d$$\n",
    "\n",
    "Consider a simple case in which we have opposite means and identity covariance. The relevant variables in the code are:\n",
    "- $\\mu_+$ -> *mean_plus* \n",
    "- $\\mu_-$ -> *mean_minus*\n",
    "- $\\Sigma_+^{1/2}$ -> *Tplus*\n",
    "- $\\Sigma_-^{1/2}$ -> *Tminus*"
   ]
  },
  {
   "cell_type": "code",
   "execution_count": 5,
   "metadata": {},
   "outputs": [],
   "source": [
    "d,p = 1000,1000  ; p1 = 0.5 \n",
    "Psi = np.eye(d) ;  scale = 1 \n",
    "mean_plus = np.ones(d) ; mean_minus = -np.ones(d)\n",
    "mean_gcm = np.zeros(d)\n",
    "Tplus = sqrtm(Psi) ; Tminus = Tplus\n",
    "gmm_params = [mean_plus , mean_minus , Tplus, Tminus , p1]"
   ]
  },
  {
   "attachments": {},
   "cell_type": "markdown",
   "metadata": {},
   "source": [
    "We fix the relevant hypermarameters in the ERM fit: $(\\alpha,\\lambda,\\Delta)$"
   ]
  },
  {
   "cell_type": "code",
   "execution_count": null,
   "metadata": {},
   "outputs": [],
   "source": [
    "lamb = 0.7 ; K = 2  ; alphs = np.linspace(1.2,1.2,1) ; noise = 0"
   ]
  },
  {
   "attachments": {},
   "cell_type": "markdown",
   "metadata": {},
   "source": [
    "Now we will vary the teacher vector for a fixed value of the parameter above in the following way:\n",
    "$$ \\theta_0 = \\Omega \\mu_{\\perp} + \\sqrt{1-\\Omega ^2}\\mu_{+}$$\n",
    "\n",
    "The parameter $\\Omega$ is the cosine distance between the teacher vector and the cluster mean, it measure the uncorrelation between the learning task and the data structure:"
   ]
  },
  {
   "cell_type": "code",
   "execution_count": null,
   "metadata": {},
   "outputs": [],
   "source": [
    "omegas = np.linspace(0,1,100) ; omegas_gem = []\n",
    "perp_vec = np.ones(d) ; perp_vec[0:int(d/2)] = -1"
   ]
  },
  {
   "attachments": {},
   "cell_type": "markdown",
   "metadata": {},
   "source": [
    "## Run experiments"
   ]
  },
  {
   "attachments": {},
   "cell_type": "markdown",
   "metadata": {},
   "source": [
    "Now for each cosine distance $\\Omega$ we compute:\n",
    "- The theoretical prediction for the performance of a Gaussian model \n",
    "- The theoretical prediction for the performance of a GMM\n",
    "- The performance of ERM under GMM assumption for the data"
   ]
  },
  {
   "cell_type": "code",
   "execution_count": null,
   "metadata": {},
   "outputs": [],
   "source": [
    "rep_gmm_plus , rep_gcm , rep_gmm_minus , simulation_gmm = pd.DataFrame(),pd.DataFrame(),pd.DataFrame(),pd.DataFrame()\n",
    "for i,t in enumerate(omegas):\n",
    "    theta = t*perp_vec + np.sqrt(1-t**2)*np.ones(d)\n",
    "    ###  GMM  ### \n",
    "    rep_gmm_plus = pd.concat([rep_gmm_plus,replica_ridge(alphs,Psi*scale,Psi*scale,Psi*scale,theta, lamb=lamb*scale, omega=0, Delta=0,\n",
    "              mean = mean_plus, mean0 = mean_plus ,noise=0)])\n",
    "    rep_gmm_minus = pd.concat([rep_gmm_minus,replica_ridge(alphs,Psi*scale,Psi*scale,Psi*scale,theta, lamb=lamb*scale, omega=0, Delta=0,\n",
    "              mean = mean_minus, mean0 = mean_minus ,noise=0)])\n",
    "    ###  GCM  ###\n",
    "    if i == 0:\n",
    "        aux_rep = replica_ridge(alphs,Psi*scale,Psi*scale,Psi*scale,theta, lamb=lamb*scale, omega=0, Delta=0,\n",
    "              mean = mean_gcm, mean0 = mean_gcm ,noise=0)\n",
    "    rep_gcm = pd.concat([rep_gcm,aux_rep])\n",
    "    ### Simul GMM ###\n",
    "    if i%5 == 0:\n",
    "        omegas_gem.append(t)\n",
    "        simulation_gmm = pd.concat([simulation_gmm,simulate_gmm(alphs,theta,noise,gmm_params, True, lamb,seeds=15)])"
   ]
  },
  {
   "attachments": {},
   "cell_type": "markdown",
   "metadata": {},
   "source": [
    "Plotting the result: "
   ]
  },
  {
   "cell_type": "code",
   "execution_count": 12,
   "metadata": {},
   "outputs": [
    {
     "data": {
      "image/png": "[encoded data removed]",
      "text/plain": [
       "<Figure size 432x432 with 1 Axes>"
      ]
     },
     "metadata": {
      "needs_background": "light"
     },
     "output_type": "display_data"
    }
   ],
   "source": [
    "fig, ax = plt.subplots(figsize = (6,6))\n",
    "\n",
    "ts = np.linspace(0,1,100) \n",
    "rep_gmm = rep_gmm_minus + rep_gmm_plus \n",
    "rep_gmm['test_error'] = rep_gmm['test_error']*0.5 \n",
    "rep_gmm['train_loss'] = rep_gmm['train_loss']*0.5 \n",
    "rep_gmm['sample_complexity'] = rep_gmm['sample_complexity']*0.5 \n",
    "rep_gmm['interp_param'] = ts ; rep_gcm['interp_param'] = ts ; simulation_gmm['interp_param'] = omegas_gem\n",
    "rep_gmm.plot(x='interp_param', y='train_loss', style='-', ax=ax, label='GMM - Theory ',color = 'r',linewidth = 2)\n",
    "rep_gcm.plot(x='interp_param', y='train_loss', style='-', ax=ax, label='GCM - Theory',color = 'black',linewidth = 2)\n",
    "simulation_gmm.plot(x='interp_param', y='train_loss', yerr = 'train_loss_std',style='-', ax=ax, kind = 'scatter', label='GMM - Simulation',color = 'orange')\n",
    "\n",
    "ax.set_ylabel(r\" $\\varepsilon_{tr}$ - Square loss\",fontsize = 15)\n",
    "ax.set_xlabel(r' $\\Omega$ -  Cosine distance$(\\theta_0,\\mu_+)$',fontsize = 15 )\n",
    "ax.tick_params(labelsize=14) "
   ]
  },
  {
   "attachments": {},
   "cell_type": "markdown",
   "metadata": {},
   "source": [
    "When the learning task is correlated with the data structure we **break** Gaussian universality "
   ]
  },
  {
   "cell_type": "markdown",
   "metadata": {},
   "source": []
  }
 ],
 "metadata": {
  "interpreter": {
   "hash": "40d3a090f54c6569ab1632332b64b2c03c39dcf918b08424e98f38b5ae0af88f"
  },
  "kernelspec": {
   "display_name": "Python 3.8.8 64-bit ('base': conda)",
   "language": "python",
   "name": "python3"
  },
  "language_info": {
   "codemirror_mode": {
    "name": "ipython",
    "version": 3
   },
   "file_extension": ".py",
   "mimetype": "text/x-python",
   "name": "python",
   "nbconvert_exporter": "python",
   "pygments_lexer": "ipython3",
   "version": "3.8.8"
  },
  "orig_nbformat": 4
 },
 "nbformat": 4,
 "nbformat_minor": 2
}
